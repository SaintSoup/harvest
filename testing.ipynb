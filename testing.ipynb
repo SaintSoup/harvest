{
 "cells": [
  {
   "cell_type": "code",
   "execution_count": 3,
   "metadata": {},
   "outputs": [],
   "source": [
    "from pandas as pd\n",
    "import numpy as np\n",
    "import tensorflow as tf\n",
    "from tensorflow import keras\n",
    "import sklearn.preprocessing \n",
    "import sklearn.metrics\n",
    "from matplotlib import pyplot\n",
    "import csv"
   ]
  },
  {
   "source": [
    "# This part is for data preparation \n",
    "### input: \n",
    "The data stream (sensor data)\n",
    "### output: \n",
    "The np.array with the format of deltaT, the previous data, and the label is the next max"
   ],
   "cell_type": "markdown",
   "metadata": {}
  },
  {
   "source": [
    "# Convention for datasets\n",
    "The base time step is in milliseconds\n",
    "\n",
    "The order of acceleration axes is by default (x,y,z) and the data is by default selected according to the x axis. To make modifications to this configuration, command-line flags are available"
   ],
   "cell_type": "markdown",
   "metadata": {}
  },
  {
   "cell_type": "code",
   "execution_count": null,
   "metadata": {},
   "outputs": [],
   "source": [
    "def import_data(path_to_dataset,seperator=',',sampling_freq=1000,order=['ax','ay','az','time'],abstime=0,keep): \n",
    "    #imports data, seperated by a comma (default), with a 1 mHz frequency\n",
    "    #the order of the data columns by default ax, ay, az, and are the timestamps provided (abstime=1) or are timestamps in delta times and a list of data to keep\n",
    "    data = pd.read_csv(filepath_or_buffer=path_to_dataset,sep=seperator, header=0,names=order)\n",
    "    if abstime:\n",
    "\n"
   ]
  }
 ],
 "metadata": {
  "kernelspec": {
   "name": "python3",
   "display_name": "Python 3.8.5 64-bit ('harvest': pipenv)",
   "metadata": {
    "interpreter": {
     "hash": "b332d3d07aa9fece0702e4ef1b3d3580dbb9ef667445f63ca0a0c229ca954555"
    }
   }
  },
  "language_info": {
   "codemirror_mode": {
    "name": "ipython",
    "version": 3
   },
   "file_extension": ".py",
   "mimetype": "text/x-python",
   "name": "python",
   "nbconvert_exporter": "python",
   "pygments_lexer": "ipython3",
   "version": "3.8.5-final"
  }
 },
 "nbformat": 4,
 "nbformat_minor": 4
}